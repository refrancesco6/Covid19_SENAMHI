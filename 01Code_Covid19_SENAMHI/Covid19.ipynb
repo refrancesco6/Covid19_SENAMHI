{
 "cells": [
  {
   "cell_type": "markdown",
   "id": "aging-combination",
   "metadata": {},
   "source": [
    "##  <center>**GRUPO DE INVESTIGACIÓN DEL SENAMHI - ESTUDIO COVID-19**</center>\n"
   ]
  },
  {
   "cell_type": "code",
   "execution_count": 20,
   "id": "gentle-dryer",
   "metadata": {},
   "outputs": [],
   "source": [
    "import pandas as pd\n",
    "import numpy as np\n",
    "import os\n",
    "import matplotlib.pyplot as pt"
   ]
  },
  {
   "cell_type": "code",
   "execution_count": 23,
   "id": "headed-thousand",
   "metadata": {},
   "outputs": [
    {
     "output_type": "execute_result",
     "data": {
      "text/plain": [
       "(1196778, 9)"
      ]
     },
     "metadata": {},
     "execution_count": 23
    }
   ],
   "source": [
    "data = pd.read_csv('/media/francesco/FRANCESCO/022Estudio_COVID19/01DataFrame/positivos_covid.csv', encoding='UTF-8', sep =';')\n",
    "data.shape"
   ]
  },
  {
   "cell_type": "code",
   "execution_count": 25,
   "id": "uniform-debut",
   "metadata": {},
   "outputs": [
    {
     "output_type": "execute_result",
     "data": {
      "text/plain": [
       "(1196778, 7)"
      ]
     },
     "metadata": {},
     "execution_count": 25
    }
   ],
   "source": [
    "data_v1 = data.iloc[:,2:]\n",
    "data_v1.shape\n"
   ]
  },
  {
   "cell_type": "code",
   "execution_count": 27,
   "id": "political-perception",
   "metadata": {},
   "outputs": [
    {
     "output_type": "execute_result",
     "data": {
      "text/plain": [
       "  DEPARTAMENTO PROVINCIA         DISTRITO METODODX  EDAD      SEXO  \\\n",
       "0        PASCO     PASCO         HUAYLLAY       PR  39.0  FEMENINO   \n",
       "1        JUNIN   CHUPACA       YANACANCHA       PR  48.0  FEMENINO   \n",
       "2        PASCO  OXAPAMPA  PUERTO BERMUDEZ       PR  49.0  FEMENINO   \n",
       "3          ICA       ICA              ICA       PR  32.0  FEMENINO   \n",
       "4          ICA       ICA      SUBTANJALLA       PR  38.0  FEMENINO   \n",
       "\n",
       "  FECHA_RESULTADO  \n",
       "0      2020-09-23  \n",
       "1      2020-09-22  \n",
       "2      2020-09-23  \n",
       "3      2020-09-22  \n",
       "4      2020-09-23  "
      ],
      "text/html": "<div>\n<style scoped>\n    .dataframe tbody tr th:only-of-type {\n        vertical-align: middle;\n    }\n\n    .dataframe tbody tr th {\n        vertical-align: top;\n    }\n\n    .dataframe thead th {\n        text-align: right;\n    }\n</style>\n<table border=\"1\" class=\"dataframe\">\n  <thead>\n    <tr style=\"text-align: right;\">\n      <th></th>\n      <th>DEPARTAMENTO</th>\n      <th>PROVINCIA</th>\n      <th>DISTRITO</th>\n      <th>METODODX</th>\n      <th>EDAD</th>\n      <th>SEXO</th>\n      <th>FECHA_RESULTADO</th>\n    </tr>\n  </thead>\n  <tbody>\n    <tr>\n      <th>0</th>\n      <td>PASCO</td>\n      <td>PASCO</td>\n      <td>HUAYLLAY</td>\n      <td>PR</td>\n      <td>39.0</td>\n      <td>FEMENINO</td>\n      <td>2020-09-23</td>\n    </tr>\n    <tr>\n      <th>1</th>\n      <td>JUNIN</td>\n      <td>CHUPACA</td>\n      <td>YANACANCHA</td>\n      <td>PR</td>\n      <td>48.0</td>\n      <td>FEMENINO</td>\n      <td>2020-09-22</td>\n    </tr>\n    <tr>\n      <th>2</th>\n      <td>PASCO</td>\n      <td>OXAPAMPA</td>\n      <td>PUERTO BERMUDEZ</td>\n      <td>PR</td>\n      <td>49.0</td>\n      <td>FEMENINO</td>\n      <td>2020-09-23</td>\n    </tr>\n    <tr>\n      <th>3</th>\n      <td>ICA</td>\n      <td>ICA</td>\n      <td>ICA</td>\n      <td>PR</td>\n      <td>32.0</td>\n      <td>FEMENINO</td>\n      <td>2020-09-22</td>\n    </tr>\n    <tr>\n      <th>4</th>\n      <td>ICA</td>\n      <td>ICA</td>\n      <td>SUBTANJALLA</td>\n      <td>PR</td>\n      <td>38.0</td>\n      <td>FEMENINO</td>\n      <td>2020-09-23</td>\n    </tr>\n  </tbody>\n</table>\n</div>"
     },
     "metadata": {},
     "execution_count": 27
    }
   ],
   "source": [
    "data_v1['FECHA_RESULTADO'] = pd.to_datetime(data_v1['FECHA_RESULTADO'], format= '%Y%m%d')\n",
    "data_v1.head(5)"
   ]
  },
  {
   "cell_type": "code",
   "execution_count": 28,
   "id": "activated-yield",
   "metadata": {},
   "outputs": [
    {
     "output_type": "execute_result",
     "data": {
      "text/plain": [
       "(972933, 7)"
      ]
     },
     "metadata": {},
     "execution_count": 28
    }
   ],
   "source": [
    "data_v2 = data_v1[(data_v1['FECHA_RESULTADO'] > '2020-03-1') & (data_v1['FECHA_RESULTADO'] <= '2020-11-30')]\n",
    "data_v2.shape"
   ]
  },
  {
   "cell_type": "code",
   "execution_count": 34,
   "id": "color-wildlife",
   "metadata": {},
   "outputs": [
    {
     "output_type": "execute_result",
     "data": {
      "text/plain": [
       "(215476, 7)"
      ]
     },
     "metadata": {},
     "execution_count": 34
    }
   ],
   "source": [
    "data_v3 = data_v2[data_v2['METODODX'] == 'PCR']\n",
    "data_v3.shape"
   ]
  },
  {
   "cell_type": "code",
   "execution_count": 35,
   "id": "bigger-badge",
   "metadata": {},
   "outputs": [
    {
     "output_type": "execute_result",
     "data": {
      "text/plain": [
       "DISTRITO\n",
       "ABANCAY               760\n",
       "ALTO DE LA ALIANZA    395\n",
       "ALTO SELVA ALEGRE      95\n",
       "AMARILIS              323\n",
       "AMBO                   61\n",
       "                     ... \n",
       "WANCHAQ               906\n",
       "YANACANCHA             82\n",
       "YANAHUARA             522\n",
       "YARINACOCHA           683\n",
       "YURIMAGUAS            561\n",
       "Length: 188, dtype: int64"
      ]
     },
     "metadata": {},
     "execution_count": 35
    }
   ],
   "source": [
    "data_v4 = data_v3.groupby('DISTRITO').filter(lambda x: len(x) >= 50)\n",
    "data_v4.groupby('DISTRITO').size()"
   ]
  },
  {
   "cell_type": "code",
   "execution_count": 36,
   "id": "ongoing-carroll",
   "metadata": {},
   "outputs": [],
   "source": [
    "data_v5 = data_v4.groupby('DISTRITO')['FECHA_RESULTADO'].apply(lambda x: x.iloc[30])\n",
    "data_v6 = data_v5.reset_index()\n",
    "a = data_v6.iloc[:,1]\n"
   ]
  }
 ],
 "metadata": {
  "kernelspec": {
   "display_name": "Python 3",
   "language": "python",
   "name": "python3"
  },
  "language_info": {
   "codemirror_mode": {
    "name": "ipython",
    "version": 3
   },
   "file_extension": ".py",
   "mimetype": "text/x-python",
   "name": "python",
   "nbconvert_exporter": "python",
   "pygments_lexer": "ipython3",
   "version": "3.7.9-final"
  }
 },
 "nbformat": 4,
 "nbformat_minor": 5
}